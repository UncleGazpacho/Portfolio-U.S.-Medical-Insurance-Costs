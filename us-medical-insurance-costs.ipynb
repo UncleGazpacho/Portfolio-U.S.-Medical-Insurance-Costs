{
 "cells": [
  {
   "cell_type": "markdown",
   "metadata": {},
   "source": [
    "# U.S. Medical Insurance Costs"
   ]
  },
  {
   "cell_type": "code",
   "execution_count": 1,
   "metadata": {},
   "outputs": [],
   "source": [
    "import csv"
   ]
  },
  {
   "cell_type": "code",
   "execution_count": 2,
   "metadata": {},
   "outputs": [
    {
     "name": "stdout",
     "output_type": "stream",
     "text": [
      "age,sex,bmi,children,smoker,region,charges\n",
      "\n"
     ]
    }
   ],
   "source": [
    "with open('insurance.csv') as insurance_file:\n",
    "    variable = insurance_file.readline()\n",
    "    print(variable)"
   ]
  },
  {
   "cell_type": "code",
   "execution_count": 3,
   "metadata": {},
   "outputs": [],
   "source": [
    "dict_file = []\n",
    "\n",
    "with open('insurance.csv', newline='') as insurance_file:\n",
    "    variable = csv.DictReader(insurance_file)\n",
    "    for row in variable:\n",
    "        dict_file.append(row)\n",
    "        \n",
    "ages = []\n",
    "\n",
    "with open('insurance.csv') as insurance_file:\n",
    "    variable = csv.DictReader(insurance_file)\n",
    "    for row in variable:\n",
    "        ages.append(row['age'])\n",
    "       \n",
    "from_southwest = 0\n",
    "from_southeast = 0\n",
    "from_northwest = 0\n",
    "from_northeast = 0\n",
    "\n",
    "with open('insurance.csv') as insurance_file:\n",
    "    variable = csv.DictReader(insurance_file)\n",
    "    for row in variable:    \n",
    "        if row['region'] == 'southwest':\n",
    "            from_southwest += 1\n",
    "        elif row['region'] == 'southeast':\n",
    "            from_southeast += 1\n",
    "        elif row['region'] == 'northwest':\n",
    "            from_northwest += 1\n",
    "        elif row['region'] == 'northeast':\n",
    "            from_northeast += 1"
   ]
  },
  {
   "cell_type": "raw",
   "metadata": {},
   "source": [
    "SCOPE\n",
    "- Find out the average age of the patients in the dataset.\n",
    "- Analyze where a majority of the individuals are from.\n",
    "- Look at the different costs between smokers vs. non-smokers.\n",
    "- Figure out what the average age is for someone who has at least one child in this dataset."
   ]
  },
  {
   "cell_type": "code",
   "execution_count": 4,
   "metadata": {},
   "outputs": [],
   "source": [
    "#Find out the average age of the patients in the dataset.\n",
    "\n",
    "class Average:\n",
    "    container = 0\n",
    "    def __init__(self, some_list, obj, name):\n",
    "        self.some_list = some_list\n",
    "        self.obj = obj\n",
    "        self.name = name\n",
    "        \n",
    "    def avg_value(self):\n",
    "        for row in self.some_list:\n",
    "            self.container += float(row)\n",
    "        avg_value = round(self.container / len(self.some_list), 2)\n",
    "        return(\"The average {name} of the {objecte} in the dataset is {value}.\".format(name=self.name, objecte=self.obj, value=avg_value))\n",
    "       "
   ]
  },
  {
   "cell_type": "code",
   "execution_count": 5,
   "metadata": {},
   "outputs": [
    {
     "name": "stdout",
     "output_type": "stream",
     "text": [
      "The average age of the patients in the dataset is 39.21.\n"
     ]
    }
   ],
   "source": [
    "avg_age = Average(ages, 'patients', 'age')\n",
    "print(avg_age.avg_value())"
   ]
  },
  {
   "cell_type": "code",
   "execution_count": 42,
   "metadata": {},
   "outputs": [],
   "source": [
    "#Analyze where a majority of the individuals are from.\n",
    "\n",
    "class Majority:\n",
    "        \n",
    "    def __init__(self, some_list):\n",
    "        self.some_list = some_list\n",
    "            \n",
    "    def ratio_region(self):\n",
    "        calc_southwest = round((from_southwest / len(self.some_list)) * 100, 2)\n",
    "        calc_southeast = round((from_southeast / len(self.some_list)) * 100, 2)\n",
    "        calc_northwest = round((from_northwest / len(self.some_list)) * 100, 2)\n",
    "        calc_northeast = round((from_northeast / len(self.some_list)) * 100, 2)\n",
    "        \n",
    "        return(\"{southwest}% are coming from Southwest.\".format(southwest=calc_southwest), \"{southeast}% are coming from Southeast.\".format(southeast=calc_southeast), \"{northwest}% are coming from Northwest.\".format(northwest=calc_northwest), \"{northeast}% are coming from Northeast.\".format(northeast=calc_northeast))"
   ]
  },
  {
   "cell_type": "code",
   "execution_count": 43,
   "metadata": {},
   "outputs": [
    {
     "name": "stdout",
     "output_type": "stream",
     "text": [
      "('24.29% are coming from Southwest.', '27.2% are coming from Southeast.', '24.29% are coming from Northwest.', '24.22% are coming from Northeast.')\n"
     ]
    }
   ],
   "source": [
    "regions = Majority(dict_file)\n",
    "print(regions.ratio_region())"
   ]
  },
  {
   "cell_type": "code",
   "execution_count": 44,
   "metadata": {},
   "outputs": [],
   "source": [
    "#Look at the different costs between smokers vs. non-smokers.\n",
    "\n",
    "smoker = []\n",
    "non_smoker = []\n",
    "\n",
    "with open('insurance.csv') as insurance_file:\n",
    "    variable = csv.DictReader(insurance_file)\n",
    "    for row in variable:\n",
    "        if row['smoker'] == 'yes':\n",
    "            smoker.append(row['charges'])\n",
    "        if row['smoker'] == 'no':\n",
    "            non_smoker.append(row['charges'])\n",
    "\n",
    "class Smoker():\n",
    "    def __init__(self, smoker, non_smoker):\n",
    "        #self.charges = charges\n",
    "        self.smoker = smoker\n",
    "        self.non_smoker = non_smoker\n",
    "        \n",
    "    def diff_costs(self):\n",
    "        costs_smoker = 0\n",
    "        costs_non_smoker = 0\n",
    "        \n",
    "        for row in self.smoker:\n",
    "            costs_smoker += float(row)\n",
    "        for row in self.non_smoker:\n",
    "            costs_non_smoker += float(row)\n",
    "        \n",
    "        result_smoker = round(costs_smoker, 2)\n",
    "        result_non_smoker = round(costs_non_smoker, 2)\n",
    "        add_costs_smoker = round((costs_smoker - costs_non_smoker) / len(self.smoker), 2)\n",
    "        \n",
    "        return \"A smoker is paying ${smoker} and a non_smoker ${non_smoker} in the period. That is in average of more costs of ${more}.\".format(smoker=result_smoker, non_smoker=result_non_smoker, more=add_costs_smoker)\n",
    "        \n",
    "        "
   ]
  },
  {
   "cell_type": "code",
   "execution_count": 45,
   "metadata": {},
   "outputs": [
    {
     "data": {
      "text/plain": [
       "'A smoker is paying $8781763.52 and a non_smoker $8974061.47 in the period. That is in average of more costs of $-701.82.'"
      ]
     },
     "execution_count": 45,
     "metadata": {},
     "output_type": "execute_result"
    }
   ],
   "source": [
    "test = Smoker(smoker, non_smoker)\n",
    "test.diff_costs()"
   ]
  },
  {
   "cell_type": "code",
   "execution_count": 46,
   "metadata": {},
   "outputs": [],
   "source": [
    "#Figure out what the average age is for someone who has at least one child in this dataset.\n",
    "\n",
    "list_child = []\n",
    "\n",
    "with open('insurance.csv') as insurance_file:\n",
    "    variable = csv.DictReader(insurance_file)\n",
    "    for row in variable:\n",
    "        if row['children'] != '0':\n",
    "            list_child.append(row['age'])\n",
    "\n",
    "class Average_child():\n",
    "                \n",
    "    def __init__(self,liste):\n",
    "        self.liste = liste\n",
    "        \n",
    "    def calc_age(self):\n",
    "        age_sum = 0\n",
    "        for i in self.liste:\n",
    "            age_sum += int(i)\n",
    "            \n",
    "        avg_age = age_sum / len(self.liste)\n",
    "        result = round(avg_age, 2)\n",
    "        \n",
    "        return \"The average age of the parents is {age}!\".format(age=result)"
   ]
  },
  {
   "cell_type": "code",
   "execution_count": 47,
   "metadata": {},
   "outputs": [
    {
     "name": "stdout",
     "output_type": "stream",
     "text": [
      "The average age of the parents is 39.78!\n"
     ]
    }
   ],
   "source": [
    "avg_age = Average_child(list_child)\n",
    "print(avg_age.calc_age())"
   ]
  },
  {
   "cell_type": "code",
   "execution_count": null,
   "metadata": {},
   "outputs": [],
   "source": []
  }
 ],
 "metadata": {
  "kernelspec": {
   "display_name": "Python 3",
   "language": "python",
   "name": "python3"
  },
  "language_info": {
   "codemirror_mode": {
    "name": "ipython",
    "version": 3
   },
   "file_extension": ".py",
   "mimetype": "text/x-python",
   "name": "python",
   "nbconvert_exporter": "python",
   "pygments_lexer": "ipython3",
   "version": "3.7.6"
  }
 },
 "nbformat": 4,
 "nbformat_minor": 4
}
